{
 "cells": [
  {
   "cell_type": "code",
   "execution_count": 6,
   "metadata": {},
   "outputs": [
    {
     "name": "stdout",
     "output_type": "stream",
     "text": [
      "2345\n",
      "2350\n"
     ]
    }
   ],
   "source": [
    "def integer_round(num):\n",
    "    digits = list(str(num))\n",
    "    print(''.join(digits))\n",
    "    if int(digits[-1]) > 4:\n",
    "        digits[-1] = '0'\n",
    "        digits[-2] = str(int((digits[-2]))+1)\n",
    "    else:\n",
    "        digits[-1] = '0'\n",
    "    print(''.join(digits))\n",
    "integer_round(2345)\n"
   ]
  },
  {
   "cell_type": "code",
   "execution_count": 126,
   "metadata": {},
   "outputs": [
    {
     "name": "stdout",
     "output_type": "stream",
     "text": [
      "0.30\n"
     ]
    }
   ],
   "source": [
    "def decimal(num):\n",
    "    lst = str(num).split('.')\n",
    "    rhs = list(lst[-1])\n",
    "    if len(rhs) > 1:\n",
    "\n",
    "        if int(rhs[1]) > 4:\n",
    "            rhs[1] = '0'\n",
    "            rhs[0] = str(int(rhs[0])+1) \n",
    "        else:\n",
    "            rhs[1] = '0'\n",
    "        print ''.join([lst[0]] + ['.'] + rhs[:2])\n",
    "    \n",
    "    else:\n",
    "        print num\n",
    "decimal(0.3423)\n",
    "    "
   ]
  },
  {
   "cell_type": "code",
   "execution_count": 124,
   "metadata": {},
   "outputs": [
    {
     "name": "stdout",
     "output_type": "stream",
     "text": [
      "['', '395570'] ['3', '9', '5', '5', '7', '0']\n",
      "4\n",
      "4\n",
      ".4\n"
     ]
    }
   ],
   "source": [
    "def decimal(num, index):\n",
    "    lst = str(num).split('.')\n",
    "    rhs = list(lst[-1])\n",
    "    print lst,rhs\n",
    "    if len(rhs) > 1:\n",
    "\n",
    "        if int(rhs[index+1]) > 4:\n",
    "            rhs[index+1] = '0'\n",
    "            print str(int(rhs[index])+1) \n",
    "            rhs[index] = str(int(rhs[index])+1) \n",
    "            print rhs[index]\n",
    "        else:\n",
    "            rhs[index+1] = '0'\n",
    "        print ''.join([lst[0]] + ['.'] + rhs[:index + 1])\n",
    "    \n",
    "    else:\n",
    "        print num\n",
    "decimal('.395570',0)"
   ]
  },
  {
   "cell_type": "code",
   "execution_count": null,
   "metadata": {},
   "outputs": [],
   "source": [
    ".395576"
   ]
  }
 ],
 "metadata": {
  "kernelspec": {
   "display_name": "Python 2",
   "language": "python",
   "name": "python2"
  },
  "language_info": {
   "codemirror_mode": {
    "name": "ipython",
    "version": 2
   },
   "file_extension": ".py",
   "mimetype": "text/x-python",
   "name": "python",
   "nbconvert_exporter": "python",
   "pygments_lexer": "ipython2",
   "version": "2.7.12"
  }
 },
 "nbformat": 4,
 "nbformat_minor": 2
}

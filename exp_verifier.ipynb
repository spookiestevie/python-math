{
 "cells": [
  {
   "cell_type": "markdown",
   "metadata": {},
   "source": [
    "Assuming that addition is the only operation. No parenthesis, variables ,division etc... only the addition of two numbers\n"
   ]
  },
  {
   "cell_type": "code",
   "execution_count": 1,
   "metadata": {},
   "outputs": [],
   "source": [
    "import re\n",
    "#from sympy import *"
   ]
  },
  {
   "cell_type": "code",
   "execution_count": 2,
   "metadata": {},
   "outputs": [],
   "source": [
    "#compares ords of the expression with a list of acceptable ords to validate a number. Also ensures only 1\n",
    "#instance of '.' is in the number else invalid.\n",
    "def isNumber(string):\n",
    "    acceptableOrds = [ord(str(x)) for x in range(0,9)]+[ord('.')]\n",
    "    ords1 = []\n",
    "    \n",
    "    for char in string:\n",
    "        ords1.append(ord(char))\n",
    "        if ord(char) in acceptableOrds:\n",
    "            pass\n",
    "        else:\n",
    "            return False\n",
    "    if ords1.count(46) > 1:\n",
    "        return False\n",
    "    else:\n",
    "        return True"
   ]
  },
  {
   "cell_type": "code",
   "execution_count": 3,
   "metadata": {},
   "outputs": [],
   "source": [
    "#Returns the expression split on any operators so '3+4' IN will be ['3', '4'] OUT.\n",
    "def split_on_symbols(expr):\n",
    "    symbols = ['\\+','\\-','\\*','\\/','\\(','\\)']\n",
    "    split_query = '|'.join(symbols)\n",
    "    return re.split(split_query,expr)"
   ]
  },
  {
   "cell_type": "code",
   "execution_count": 4,
   "metadata": {},
   "outputs": [],
   "source": [
    "#https://codereview.stackexchange.com/questions/180567/checking-for-balanced-brackets-in-python\n",
    "def parens_matched(expr):\n",
    "    \"\"\"\n",
    "    Finds out how balanced an expression is.\n",
    "    With a string containing only brackets.\n",
    "\n",
    "    >>> is_matched('[]()()(((([])))')\n",
    "    False\n",
    "    >>> is_matched('[](){{{[]}}}')\n",
    "    True\n",
    "    \"\"\"\n",
    "    opening = tuple('({[')\n",
    "    closing = tuple(')}]')\n",
    "    mapping = dict(zip(opening, closing))\n",
    "    queue = []\n",
    "\n",
    "    for letter in expr:\n",
    "        if letter in opening:\n",
    "            queue.append(mapping[letter])\n",
    "            \n",
    "        elif letter in closing:\n",
    "            if not queue or letter != queue.pop():\n",
    "                return False\n",
    "    return not queue"
   ]
  },
  {
   "cell_type": "code",
   "execution_count": 5,
   "metadata": {},
   "outputs": [],
   "source": [
    "#Checks validity of expression by performing that various format checks on the expression. \n",
    "def isValid(expr):\n",
    "    valid = []\n",
    "    for ix in split_on_symbols(expr):\n",
    "        valid.append(isNumber(ix))\n",
    "        valid.append(parens_matched(expr))\n",
    "    if valid.count(False) == 0:\n",
    "        return True\n",
    "    else:\n",
    "        return False "
   ]
  },
  {
   "cell_type": "code",
   "execution_count": null,
   "metadata": {},
   "outputs": [],
   "source": []
  },
  {
   "cell_type": "code",
   "execution_count": 6,
   "metadata": {},
   "outputs": [
    {
     "data": {
      "text/plain": [
       "True"
      ]
     },
     "execution_count": 6,
     "metadata": {},
     "output_type": "execute_result"
    }
   ],
   "source": [
    "expr = '2+10'\n",
    "isValid(expr)"
   ]
  },
  {
   "cell_type": "code",
   "execution_count": 7,
   "metadata": {},
   "outputs": [
    {
     "data": {
      "text/plain": [
       "False"
      ]
     },
     "execution_count": 7,
     "metadata": {},
     "output_type": "execute_result"
    }
   ],
   "source": [
    "expr = '2/10+3*34343a'\n",
    "isValid(expr)"
   ]
  },
  {
   "cell_type": "code",
   "execution_count": 8,
   "metadata": {},
   "outputs": [
    {
     "data": {
      "text/plain": [
       "True"
      ]
     },
     "execution_count": 8,
     "metadata": {},
     "output_type": "execute_result"
    }
   ],
   "source": [
    "expr = '2.0+100.00034/45'\n",
    "isValid(expr)"
   ]
  },
  {
   "cell_type": "code",
   "execution_count": 9,
   "metadata": {},
   "outputs": [
    {
     "data": {
      "text/plain": [
       "False"
      ]
     },
     "execution_count": 9,
     "metadata": {},
     "output_type": "execute_result"
    }
   ],
   "source": [
    "expr = '1.3049.3493+3'\n",
    "isValid(expr)"
   ]
  },
  {
   "cell_type": "code",
   "execution_count": 10,
   "metadata": {},
   "outputs": [
    {
     "data": {
      "text/plain": [
       "True"
      ]
     },
     "execution_count": 10,
     "metadata": {},
     "output_type": "execute_result"
    }
   ],
   "source": [
    "expr = '1+(2*3)-2'\n",
    "isValid(expr)"
   ]
  },
  {
   "cell_type": "code",
   "execution_count": 11,
   "metadata": {},
   "outputs": [
    {
     "data": {
      "text/plain": [
       "['2', '10', '343.434']"
      ]
     },
     "execution_count": 11,
     "metadata": {},
     "output_type": "execute_result"
    }
   ],
   "source": [
    "split_on_symbols('2/10+343.434')"
   ]
  },
  {
   "cell_type": "code",
   "execution_count": null,
   "metadata": {},
   "outputs": [],
   "source": []
  }
 ],
 "metadata": {
  "kernelspec": {
   "display_name": "Python 2",
   "language": "python",
   "name": "python2"
  },
  "language_info": {
   "codemirror_mode": {
    "name": "ipython",
    "version": 2
   },
   "file_extension": ".py",
   "mimetype": "text/x-python",
   "name": "python",
   "nbconvert_exporter": "python",
   "pygments_lexer": "ipython2",
   "version": "2.7.12"
  }
 },
 "nbformat": 4,
 "nbformat_minor": 2
}

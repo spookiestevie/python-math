{
 "cells": [
  {
   "cell_type": "markdown",
   "metadata": {},
   "source": [
    "Assuming that addition is the only operation. No parenthesis, variables ,division etc... only the addition of two numbers\n"
   ]
  },
  {
   "cell_type": "code",
   "execution_count": 20,
   "metadata": {},
   "outputs": [],
   "source": [
    "import re"
   ]
  },
  {
   "cell_type": "code",
   "execution_count": 25,
   "metadata": {},
   "outputs": [
    {
     "data": {
      "text/plain": [
       "True"
      ]
     },
     "execution_count": 25,
     "metadata": {},
     "output_type": "execute_result"
    }
   ],
   "source": [
    "expr = '2+10'\n",
    "isValid(expr)"
   ]
  },
  {
   "cell_type": "code",
   "execution_count": 26,
   "metadata": {},
   "outputs": [
    {
     "data": {
      "text/plain": [
       "False"
      ]
     },
     "execution_count": 26,
     "metadata": {},
     "output_type": "execute_result"
    }
   ],
   "source": [
    "expr = '2/10'\n",
    "isValid(expr)"
   ]
  },
  {
   "cell_type": "code",
   "execution_count": 31,
   "metadata": {},
   "outputs": [
    {
     "data": {
      "text/plain": [
       "True"
      ]
     },
     "execution_count": 31,
     "metadata": {},
     "output_type": "execute_result"
    }
   ],
   "source": [
    "expr = '2.0+100.00034'\n",
    "isValid(expr)"
   ]
  },
  {
   "cell_type": "code",
   "execution_count": 32,
   "metadata": {},
   "outputs": [
    {
     "data": {
      "text/plain": [
       "False"
      ]
     },
     "execution_count": 32,
     "metadata": {},
     "output_type": "execute_result"
    }
   ],
   "source": [
    "expr = '1.3049.3493+3'\n",
    "isValid(expr)"
   ]
  },
  {
   "cell_type": "code",
   "execution_count": 22,
   "metadata": {},
   "outputs": [],
   "source": [
    "#compares ords of the expression with a list of acceptable ords to validate a number. Also ensures only 1\n",
    "#instance of '.' is in the number.\n",
    "def isNumber(string):\n",
    "    acceptableOrds = [ord(str(x)) for x in range(0,9)]+[ord('.')]\n",
    "    ords1 = []\n",
    "    \n",
    "    for char in string:\n",
    "        ords1.append(ord(char))\n",
    "        if ord(char) in acceptableOrds:\n",
    "            pass\n",
    "        else:\n",
    "            return False\n",
    "    if ords1.count(46) > 1:\n",
    "        return False\n",
    "    else:\n",
    "        return True"
   ]
  },
  {
   "cell_type": "code",
   "execution_count": 23,
   "metadata": {},
   "outputs": [],
   "source": [
    "#Assuming that the current operations are: addition, Checks if that operator is in the expression\n",
    "def isSymbol(expr):\n",
    "    valid = False\n",
    "    if '+' in expr:\n",
    "        return True\n",
    "    else:\n",
    "        return False"
   ]
  },
  {
   "cell_type": "code",
   "execution_count": 19,
   "metadata": {},
   "outputs": [],
   "source": [
    "#Checks validity of expression by performing that various format checks on expression. \n",
    "def isValid(expr):\n",
    "    lst = expr.split('+')\n",
    "    valid = []\n",
    "\n",
    "    for i in lst:\n",
    "      \n",
    "        if isNumber(i):\n",
    "            valid.append('True')\n",
    "        else:\n",
    "            valid.append('False')\n",
    "    if valid.count('False') == 0:\n",
    "        return True\n",
    "    else:\n",
    "        return False"
   ]
  },
  {
   "cell_type": "code",
   "execution_count": null,
   "metadata": {},
   "outputs": [],
   "source": []
  },
  {
   "cell_type": "code",
   "execution_count": null,
   "metadata": {},
   "outputs": [],
   "source": []
  }
 ],
 "metadata": {
  "kernelspec": {
   "display_name": "Python 2",
   "language": "python",
   "name": "python2"
  },
  "language_info": {
   "codemirror_mode": {
    "name": "ipython",
    "version": 2
   },
   "file_extension": ".py",
   "mimetype": "text/x-python",
   "name": "python",
   "nbconvert_exporter": "python",
   "pygments_lexer": "ipython2",
   "version": "2.7.12"
  }
 },
 "nbformat": 4,
 "nbformat_minor": 2
}

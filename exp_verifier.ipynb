{
 "cells": [
  {
   "cell_type": "markdown",
   "metadata": {},
   "source": [
    "Assuming that addition is the only operation. No parenthesis, variables ,division etc... only the addition of two numbers\n"
   ]
  },
  {
   "cell_type": "code",
   "execution_count": 114,
   "metadata": {},
   "outputs": [],
   "source": [
    "import re"
   ]
  },
  {
   "cell_type": "code",
   "execution_count": 115,
   "metadata": {},
   "outputs": [],
   "source": [
    "#compares ords of the expression with a list of acceptable ords to validate a number. Also ensures only 1\n",
    "#instance of '.' is in the number.\n",
    "def isNumber(string):\n",
    "    acceptableOrds = [ord(str(x)) for x in range(0,9)]+[ord('.')]\n",
    "    ords1 = []\n",
    "    \n",
    "    for char in string:\n",
    "        ords1.append(ord(char))\n",
    "        if ord(char) in acceptableOrds:\n",
    "            pass\n",
    "        else:\n",
    "            return False\n",
    "    if ords1.count(46) > 1:\n",
    "        return False\n",
    "    else:\n",
    "        return True"
   ]
  },
  {
   "cell_type": "code",
   "execution_count": 116,
   "metadata": {},
   "outputs": [],
   "source": [
    "#Assuming that the current operations are: addition, Checks if that operator is in the expression.\n",
    "def split_on_symbols(expr):\n",
    "    operators = ['\\+','\\-','\\*','\\/']\n",
    "    split_query = '|'.join(operators)\n",
    "    return re.split(split_query,expr)"
   ]
  },
  {
   "cell_type": "code",
   "execution_count": 117,
   "metadata": {},
   "outputs": [],
   "source": [
    "#Checks validity of expression by performing that various format checks on the expression. \n",
    "def isValid(expr):\n",
    "    valid = []\n",
    "    for ix in split_on_symbols(expr):\n",
    "        valid.append(isNumber(ix))\n",
    "    if valid.count(False) == 0:\n",
    "        return True\n",
    "    else:\n",
    "        return False"
   ]
  },
  {
   "cell_type": "code",
   "execution_count": 118,
   "metadata": {},
   "outputs": [
    {
     "data": {
      "text/plain": [
       "True"
      ]
     },
     "execution_count": 118,
     "metadata": {},
     "output_type": "execute_result"
    }
   ],
   "source": [
    "expr = '2+10'\n",
    "isValid(expr)"
   ]
  },
  {
   "cell_type": "code",
   "execution_count": 119,
   "metadata": {},
   "outputs": [
    {
     "data": {
      "text/plain": [
       "True"
      ]
     },
     "execution_count": 119,
     "metadata": {},
     "output_type": "execute_result"
    }
   ],
   "source": [
    "expr = '2/10'\n",
    "isValid(expr)"
   ]
  },
  {
   "cell_type": "code",
   "execution_count": 120,
   "metadata": {},
   "outputs": [
    {
     "data": {
      "text/plain": [
       "True"
      ]
     },
     "execution_count": 120,
     "metadata": {},
     "output_type": "execute_result"
    }
   ],
   "source": [
    "expr = '2.0+100.00034'\n",
    "isValid(expr)"
   ]
  },
  {
   "cell_type": "code",
   "execution_count": 121,
   "metadata": {},
   "outputs": [
    {
     "data": {
      "text/plain": [
       "False"
      ]
     },
     "execution_count": 121,
     "metadata": {},
     "output_type": "execute_result"
    }
   ],
   "source": [
    "expr = '1.3049.3493+3'\n",
    "isValid(expr)"
   ]
  },
  {
   "cell_type": "code",
   "execution_count": null,
   "metadata": {},
   "outputs": [],
   "source": []
  }
 ],
 "metadata": {
  "kernelspec": {
   "display_name": "Python 2",
   "language": "python",
   "name": "python2"
  },
  "language_info": {
   "codemirror_mode": {
    "name": "ipython",
    "version": 2
   },
   "file_extension": ".py",
   "mimetype": "text/x-python",
   "name": "python",
   "nbconvert_exporter": "python",
   "pygments_lexer": "ipython2",
   "version": "2.7.12"
  }
 },
 "nbformat": 4,
 "nbformat_minor": 2
}

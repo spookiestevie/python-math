{
 "cells": [
  {
   "cell_type": "code",
   "execution_count": 125,
   "metadata": {},
   "outputs": [],
   "source": [
    "import re\n",
    "#vars assumed to be x & y only"
   ]
  },
  {
   "cell_type": "code",
   "execution_count": 126,
   "metadata": {},
   "outputs": [],
   "source": [
    "def solve(exp):\n",
    "    inverse_operators = [('-','+'),('+','-'), ('*','/'), ('/','*')]\n",
    "    lst = re.split('=',exp) # splits string on '='\n",
    "    lhs,rhs = [x.strip() for x in lst] # removes whitespaces\n",
    "    lhs=re.sub(r'(\\d)(x|y)',r'\\1*\\2',lhs) # substitutes in a '*' where multiplication is assumed on the LHS\n",
    "    rhs=re.sub(r'(\\d)(x|y)',r'\\1*\\2',rhs) # substitutes in a '*' where multiplication is assumed on the RHS\n",
    "    subtract_from_rhs = [x for x in re.split('\\+',rhs) if 'x' not in x] # splits on the '+' to identify the lone term\n",
    "    lhs = lhs+'-'+'-'.join(subtract_from_rhs) #subtracts the term to move it to the LHS\n",
    "    rhs = re.sub('\\+{}'.format(subtract_from_rhs[0]),'',rhs)\n",
    "    lhs = '('+lhs + ')/'+[x for x in re.split('\\*',rhs) if 'x' not in x][0]\n",
    "    rhs = 'x'\n",
    "    lhs + ' = ' + rhs\n",
    "    return lhs,rhs"
   ]
  },
  {
   "cell_type": "code",
   "execution_count": 127,
   "metadata": {},
   "outputs": [],
   "source": [
    "lhs,rhs=solve('2y = 60x+150+3x')"
   ]
  },
  {
   "cell_type": "code",
   "execution_count": 128,
   "metadata": {},
   "outputs": [
    {
     "data": {
      "text/plain": [
       "'(2*y-150)/60'"
      ]
     },
     "execution_count": 128,
     "metadata": {},
     "output_type": "execute_result"
    }
   ],
   "source": [
    "lhs"
   ]
  },
  {
   "cell_type": "code",
   "execution_count": 129,
   "metadata": {},
   "outputs": [],
   "source": [
    "def replace_x(exp):\n",
    "    resp = re.findall('\\dx',exp)\n",
    "    print resp,len(resp)"
   ]
  },
  {
   "cell_type": "code",
   "execution_count": 130,
   "metadata": {},
   "outputs": [
    {
     "data": {
      "text/plain": [
       "'3x+2x+1*x'"
      ]
     },
     "execution_count": 130,
     "metadata": {},
     "output_type": "execute_result"
    }
   ],
   "source": [
    "re.sub(r'(\\D)x',r'\\1 1*x','3x+2x+x').replace(' ','')\n",
    "# standalone 'x' is replaced by 1*x to comply with prev logic"
   ]
  },
  {
   "cell_type": "code",
   "execution_count": 131,
   "metadata": {},
   "outputs": [],
   "source": [
    "def replace_operator_with_inverse(exp,operator):\n",
    "    inverse_operators = {'-':'+','+':'-', '*':'/', '/':'*'}\n",
    "    return re.sub('\\{}'.format(operator),'{}'.format(inverse_operators[operator]),exp)"
   ]
  },
  {
   "cell_type": "code",
   "execution_count": 132,
   "metadata": {},
   "outputs": [
    {
     "ename": "KeyError",
     "evalue": "''",
     "output_type": "error",
     "traceback": [
      "\u001b[0;31m---------------------------------------------------------------------------\u001b[0m",
      "\u001b[0;31mKeyError\u001b[0m                                  Traceback (most recent call last)",
      "\u001b[0;32m<ipython-input-132-6e63b6684af8>\u001b[0m in \u001b[0;36m<module>\u001b[0;34m()\u001b[0m\n\u001b[0;32m----> 1\u001b[0;31m \u001b[0mreplace_operator_with_inverse\u001b[0m\u001b[0;34m(\u001b[0m\u001b[0;34m'5*5'\u001b[0m\u001b[0;34m,\u001b[0m\u001b[0;34m''\u001b[0m\u001b[0;34m)\u001b[0m\u001b[0;34m\u001b[0m\u001b[0m\n\u001b[0m",
      "\u001b[0;32m<ipython-input-131-d71b86ad2319>\u001b[0m in \u001b[0;36mreplace_operator_with_inverse\u001b[0;34m(exp, operator)\u001b[0m\n\u001b[1;32m      1\u001b[0m \u001b[0;32mdef\u001b[0m \u001b[0mreplace_operator_with_inverse\u001b[0m\u001b[0;34m(\u001b[0m\u001b[0mexp\u001b[0m\u001b[0;34m,\u001b[0m\u001b[0moperator\u001b[0m\u001b[0;34m)\u001b[0m\u001b[0;34m:\u001b[0m\u001b[0;34m\u001b[0m\u001b[0m\n\u001b[1;32m      2\u001b[0m     \u001b[0minverse_operators\u001b[0m \u001b[0;34m=\u001b[0m \u001b[0;34m{\u001b[0m\u001b[0;34m'-'\u001b[0m\u001b[0;34m:\u001b[0m\u001b[0;34m'+'\u001b[0m\u001b[0;34m,\u001b[0m\u001b[0;34m'+'\u001b[0m\u001b[0;34m:\u001b[0m\u001b[0;34m'-'\u001b[0m\u001b[0;34m,\u001b[0m \u001b[0;34m'*'\u001b[0m\u001b[0;34m:\u001b[0m\u001b[0;34m'/'\u001b[0m\u001b[0;34m,\u001b[0m \u001b[0;34m'/'\u001b[0m\u001b[0;34m:\u001b[0m\u001b[0;34m'*'\u001b[0m\u001b[0;34m}\u001b[0m\u001b[0;34m\u001b[0m\u001b[0m\n\u001b[0;32m----> 3\u001b[0;31m     \u001b[0;32mreturn\u001b[0m \u001b[0mre\u001b[0m\u001b[0;34m.\u001b[0m\u001b[0msub\u001b[0m\u001b[0;34m(\u001b[0m\u001b[0;34m'\\{}'\u001b[0m\u001b[0;34m.\u001b[0m\u001b[0mformat\u001b[0m\u001b[0;34m(\u001b[0m\u001b[0moperator\u001b[0m\u001b[0;34m)\u001b[0m\u001b[0;34m,\u001b[0m\u001b[0;34m'{}'\u001b[0m\u001b[0;34m.\u001b[0m\u001b[0mformat\u001b[0m\u001b[0;34m(\u001b[0m\u001b[0minverse_operators\u001b[0m\u001b[0;34m[\u001b[0m\u001b[0moperator\u001b[0m\u001b[0;34m]\u001b[0m\u001b[0;34m)\u001b[0m\u001b[0;34m,\u001b[0m\u001b[0mexp\u001b[0m\u001b[0;34m)\u001b[0m\u001b[0;34m\u001b[0m\u001b[0m\n\u001b[0m",
      "\u001b[0;31mKeyError\u001b[0m: ''"
     ]
    }
   ],
   "source": [
    "replace_operator_with_inverse('5*5','')"
   ]
  },
  {
   "cell_type": "code",
   "execution_count": 133,
   "metadata": {},
   "outputs": [],
   "source": [
    "str1 = '2y = 60x+150+3x+2yx+5y+2x+5x+8y+309+23'"
   ]
  },
  {
   "cell_type": "code",
   "execution_count": 134,
   "metadata": {},
   "outputs": [],
   "source": [
    "lhs,rhs = str1.split('=')"
   ]
  },
  {
   "cell_type": "code",
   "execution_count": 135,
   "metadata": {},
   "outputs": [],
   "source": [
    "LHS = lhs.rstrip()"
   ]
  },
  {
   "cell_type": "code",
   "execution_count": 136,
   "metadata": {},
   "outputs": [],
   "source": [
    "RHS = rhs.lstrip()"
   ]
  },
  {
   "cell_type": "code",
   "execution_count": 137,
   "metadata": {},
   "outputs": [],
   "source": [
    "LHS = re.split(r'\\+',LHS)\n",
    "RHS = re.split(r'\\+',RHS)"
   ]
  },
  {
   "cell_type": "code",
   "execution_count": 138,
   "metadata": {},
   "outputs": [
    {
     "data": {
      "text/plain": [
       "['2y']"
      ]
     },
     "execution_count": 138,
     "metadata": {},
     "output_type": "execute_result"
    }
   ],
   "source": [
    "LHS"
   ]
  },
  {
   "cell_type": "code",
   "execution_count": 139,
   "metadata": {},
   "outputs": [
    {
     "data": {
      "text/plain": [
       "['60x', '150', '3x', '2yx', '5y', '2x', '5x', '8y', '309', '23']"
      ]
     },
     "execution_count": 139,
     "metadata": {},
     "output_type": "execute_result"
    }
   ],
   "source": [
    "RHS"
   ]
  },
  {
   "cell_type": "code",
   "execution_count": 140,
   "metadata": {
    "scrolled": true
   },
   "outputs": [
    {
     "name": "stdout",
     "output_type": "stream",
     "text": [
      "60x\n",
      "150\n",
      "3x\n",
      "2yx\n",
      "5y\n",
      "2x\n",
      "5x\n",
      "8y\n",
      "309\n",
      "23\n"
     ]
    }
   ],
   "source": [
    "total = 0\n",
    "remove_list=[]\n",
    "for ix,term in enumerate(RHS):\n",
    "    print(term)\n",
    "    resp = re.findall('\\d+$', term)\n",
    "    if resp:\n",
    "        #print(resp)\n",
    "        resp = ''.join(resp)\n",
    "        total += int(resp)\n",
    "        remove_list.append(resp)\n",
    "        \n",
    "#print(total)"
   ]
  },
  {
   "cell_type": "code",
   "execution_count": 141,
   "metadata": {},
   "outputs": [],
   "source": [
    "RHS=[x for x in RHS if x not in remove_list]\n"
   ]
  },
  {
   "cell_type": "code",
   "execution_count": 142,
   "metadata": {},
   "outputs": [
    {
     "data": {
      "text/plain": [
       "['150', '309', '23']"
      ]
     },
     "execution_count": 142,
     "metadata": {},
     "output_type": "execute_result"
    }
   ],
   "source": [
    "remove_list"
   ]
  },
  {
   "cell_type": "code",
   "execution_count": 143,
   "metadata": {},
   "outputs": [],
   "source": [
    "s = set()"
   ]
  },
  {
   "cell_type": "code",
   "execution_count": 144,
   "metadata": {},
   "outputs": [
    {
     "data": {
      "text/plain": [
       "['56x']"
      ]
     },
     "execution_count": 144,
     "metadata": {},
     "output_type": "execute_result"
    }
   ],
   "source": [
    "re.findall('\\d+[a-z]', '56xy')"
   ]
  },
  {
   "cell_type": "code",
   "execution_count": 145,
   "metadata": {},
   "outputs": [
    {
     "name": "stdout",
     "output_type": "stream",
     "text": [
      "\\d+([a-z]{1})$\n",
      "\\d+([a-z]{1})$\n",
      "\\d+([a-z]{1})$\n",
      "\\d+([a-z]{1})$\n",
      "\\d+([a-z]{1})$\n",
      "\\d+([a-z]{1})$\n",
      "\\d+([a-z]{1})$\n",
      "\\d+([a-z]{2})$\n",
      "\\d+([a-z]{2})$\n",
      "\\d+([a-z]{2})$\n",
      "\\d+([a-z]{2})$\n",
      "\\d+([a-z]{2})$\n",
      "\\d+([a-z]{2})$\n",
      "\\d+([a-z]{2})$\n",
      "\\d+([a-z]{3})$\n",
      "\\d+([a-z]{3})$\n",
      "\\d+([a-z]{3})$\n",
      "\\d+([a-z]{3})$\n",
      "\\d+([a-z]{3})$\n",
      "\\d+([a-z]{3})$\n",
      "\\d+([a-z]{3})$\n",
      "\\d+([a-z]{4})$\n",
      "\\d+([a-z]{4})$\n",
      "\\d+([a-z]{4})$\n",
      "\\d+([a-z]{4})$\n",
      "\\d+([a-z]{4})$\n",
      "\\d+([a-z]{4})$\n",
      "\\d+([a-z]{4})$\n"
     ]
    }
   ],
   "source": [
    "#retrieves the variable names of the expressions, returns as a set\n",
    "for ix in range(1,5):\n",
    "    for term in RHS:\n",
    "        query = '\\d+([a-z]{'+str(ix) + '})$'\n",
    "        print(query)\n",
    "        resp = re.findall(query,term)\n",
    "        if resp:\n",
    "            s.add(resp[0])"
   ]
  },
  {
   "cell_type": "code",
   "execution_count": 162,
   "metadata": {},
   "outputs": [],
   "source": [
    "import re #Lists all the variables in the expression excluding any digits\n",
    "def get_variables(exp):\n",
    "    resp = re.split('\\+|\\-|\\|\\*|\\(|\\)',exp)\n",
    "    return sorted(list(set([re.sub('\\d+','',x) for x in resp])))"
   ]
  },
  {
   "cell_type": "code",
   "execution_count": 163,
   "metadata": {},
   "outputs": [],
   "source": [
    "def group_terms(exp):                #Only supports + operators currently\n",
    "    variables = get_variables(exp)\n",
    "    grouped_terms = []\n",
    "    for variable in variables:\n",
    "        counter = 0\n",
    "        pattern = '(?:\\d+)?(?<![a-z]){}(?![a-z])'.format(variable)\n",
    "        subexpressions = re.findall(pattern,exp)\n",
    "        for term in subexpressions:\n",
    "            if variable in term:\n",
    "                counter += 1\n",
    "            query = '\\d+'\n",
    "            resp = re.findall(query + variable,term)\n",
    "            if resp:\n",
    "                counter += int(resp[0].replace(variable,''))\n",
    "                counter -= 1\n",
    "        grouped_terms.append(str(counter) + variable)\n",
    "    return '+'.join(grouped_terms)"
   ]
  },
  {
   "cell_type": "code",
   "execution_count": 164,
   "metadata": {},
   "outputs": [
    {
     "data": {
      "text/plain": [
       "'7x+77xy+325y'"
      ]
     },
     "execution_count": 164,
     "metadata": {},
     "output_type": "execute_result"
    }
   ],
   "source": [
    "group_terms('5x+322y+32xy+3y+2x+45xy')"
   ]
  },
  {
   "cell_type": "code",
   "execution_count": null,
   "metadata": {},
   "outputs": [],
   "source": []
  }
 ],
 "metadata": {
  "kernelspec": {
   "display_name": "Python 2",
   "language": "python",
   "name": "python2"
  },
  "language_info": {
   "codemirror_mode": {
    "name": "ipython",
    "version": 2
   },
   "file_extension": ".py",
   "mimetype": "text/x-python",
   "name": "python",
   "nbconvert_exporter": "python",
   "pygments_lexer": "ipython2",
   "version": "2.7.12"
  }
 },
 "nbformat": 4,
 "nbformat_minor": 2
}

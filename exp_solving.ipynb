{
 "cells": [
  {
   "cell_type": "code",
   "execution_count": 4,
   "metadata": {},
   "outputs": [],
   "source": [
    "import re\n",
    "#vars assumed to be x & y only"
   ]
  },
  {
   "cell_type": "code",
   "execution_count": 5,
   "metadata": {},
   "outputs": [],
   "source": [
    "def solve(exp):\n",
    "    inverse_operators = [('-','+'),('+','-'), ('*','/'), ('/','*')]\n",
    "    lst = re.split('=',exp) # splits string on '='\n",
    "    lhs,rhs = [x.strip() for x in lst] # removes whitespaces\n",
    "    lhs=re.sub(r'(\\d)(x|y)',r'\\1*\\2',lhs) # substitutes in a '*' where multiplication is assumed on the LHS\n",
    "    rhs=re.sub(r'(\\d)(x|y)',r'\\1*\\2',rhs) # substitutes in a '*' where multiplication is assumed on the RHS\n",
    "    subtract_from_rhs = [x for x in re.split('\\+',rhs) if 'x' not in x] # splits on the '+' to identify the lone term\n",
    "    lhs = lhs+'-'+'-'.join(subtract_from_rhs) #subtracts the term to move it to the LHS\n",
    "    rhs = re.sub('\\+{}'.format(subtract_from_rhs[0]),'',rhs)\n",
    "    lhs = '('+lhs + ')/'+[x for x in re.split('\\*',rhs) if 'x' not in x][0]\n",
    "    rhs = 'x'\n",
    "    lhs + ' = ' + rhs\n",
    "    return lhs,rhs"
   ]
  },
  {
   "cell_type": "code",
   "execution_count": 6,
   "metadata": {},
   "outputs": [],
   "source": [
    "lhs,rhs=solve('2y = 60x+150+3x')"
   ]
  },
  {
   "cell_type": "code",
   "execution_count": 7,
   "metadata": {},
   "outputs": [
    {
     "data": {
      "text/plain": [
       "'(2*y-150)/60'"
      ]
     },
     "execution_count": 7,
     "metadata": {},
     "output_type": "execute_result"
    }
   ],
   "source": [
    "lhs"
   ]
  },
  {
   "cell_type": "code",
   "execution_count": 8,
   "metadata": {},
   "outputs": [],
   "source": [
    "def replace_x(exp):\n",
    "    resp = re.findall('\\dx',exp)\n",
    "    print resp,len(resp)"
   ]
  },
  {
   "cell_type": "code",
   "execution_count": 9,
   "metadata": {},
   "outputs": [
    {
     "data": {
      "text/plain": [
       "'3x+2x+1*x'"
      ]
     },
     "execution_count": 9,
     "metadata": {},
     "output_type": "execute_result"
    }
   ],
   "source": [
    "re.sub(r'(\\D)x',r'\\1 1*x','3x+2x+x').replace(' ','')\n",
    "# standalone 'x' is replaced by 1*x to comply with prev logic"
   ]
  },
  {
   "cell_type": "code",
   "execution_count": 10,
   "metadata": {},
   "outputs": [],
   "source": [
    "def replace_operator_with_inverse(exp,operator):\n",
    "    inverse_operators = {'-':'+','+':'-', '*':'/', '/':'*'}\n",
    "    return re.sub('\\{}'.format(operator),'{}'.format(inverse_operators[operator]),exp)"
   ]
  },
  {
   "cell_type": "code",
   "execution_count": 14,
   "metadata": {},
   "outputs": [
    {
     "data": {
      "text/plain": [
       "'5*5'"
      ]
     },
     "execution_count": 14,
     "metadata": {},
     "output_type": "execute_result"
    }
   ],
   "source": [
    "replace_operator_with_inverse('5*5','/')"
   ]
  },
  {
   "cell_type": "code",
   "execution_count": 15,
   "metadata": {},
   "outputs": [],
   "source": [
    "str1 = '2y = 60x+150+3x+2yx+5y+2x+5x+8y+309+23'"
   ]
  },
  {
   "cell_type": "code",
   "execution_count": 16,
   "metadata": {},
   "outputs": [],
   "source": [
    "lhs,rhs = str1.split('=')"
   ]
  },
  {
   "cell_type": "code",
   "execution_count": 17,
   "metadata": {},
   "outputs": [],
   "source": [
    "LHS = lhs.rstrip()"
   ]
  },
  {
   "cell_type": "code",
   "execution_count": 18,
   "metadata": {},
   "outputs": [],
   "source": [
    "RHS = rhs.lstrip()"
   ]
  },
  {
   "cell_type": "code",
   "execution_count": 19,
   "metadata": {},
   "outputs": [],
   "source": [
    "LHS = re.split(r'\\+',LHS)\n",
    "RHS = re.split(r'\\+',RHS)"
   ]
  },
  {
   "cell_type": "code",
   "execution_count": 20,
   "metadata": {},
   "outputs": [
    {
     "data": {
      "text/plain": [
       "['2y']"
      ]
     },
     "execution_count": 20,
     "metadata": {},
     "output_type": "execute_result"
    }
   ],
   "source": [
    "LHS"
   ]
  },
  {
   "cell_type": "code",
   "execution_count": 21,
   "metadata": {},
   "outputs": [
    {
     "data": {
      "text/plain": [
       "['60x', '150', '3x', '2yx', '5y', '2x', '5x', '8y', '309', '23']"
      ]
     },
     "execution_count": 21,
     "metadata": {},
     "output_type": "execute_result"
    }
   ],
   "source": [
    "RHS"
   ]
  },
  {
   "cell_type": "code",
   "execution_count": 22,
   "metadata": {
    "scrolled": true
   },
   "outputs": [
    {
     "name": "stdout",
     "output_type": "stream",
     "text": [
      "60x\n",
      "150\n",
      "3x\n",
      "2yx\n",
      "5y\n",
      "2x\n",
      "5x\n",
      "8y\n",
      "309\n",
      "23\n"
     ]
    }
   ],
   "source": [
    "total = 0\n",
    "remove_list=[]\n",
    "for ix,term in enumerate(RHS):\n",
    "    print(term)\n",
    "    resp = re.findall('\\d+$', term)\n",
    "    if resp:\n",
    "        #print(resp)\n",
    "        resp = ''.join(resp)\n",
    "        total += int(resp)\n",
    "        remove_list.append(resp)\n",
    "        \n",
    "#print(total)"
   ]
  },
  {
   "cell_type": "code",
   "execution_count": 23,
   "metadata": {},
   "outputs": [],
   "source": [
    "RHS=[x for x in RHS if x not in remove_list]\n"
   ]
  },
  {
   "cell_type": "code",
   "execution_count": 24,
   "metadata": {},
   "outputs": [
    {
     "data": {
      "text/plain": [
       "['150', '309', '23']"
      ]
     },
     "execution_count": 24,
     "metadata": {},
     "output_type": "execute_result"
    }
   ],
   "source": [
    "remove_list"
   ]
  },
  {
   "cell_type": "code",
   "execution_count": 25,
   "metadata": {},
   "outputs": [],
   "source": [
    "s = set()"
   ]
  },
  {
   "cell_type": "code",
   "execution_count": 26,
   "metadata": {},
   "outputs": [
    {
     "data": {
      "text/plain": [
       "['56x']"
      ]
     },
     "execution_count": 26,
     "metadata": {},
     "output_type": "execute_result"
    }
   ],
   "source": [
    "re.findall('\\d+[a-z]', '56xy')"
   ]
  },
  {
   "cell_type": "code",
   "execution_count": 27,
   "metadata": {},
   "outputs": [
    {
     "name": "stdout",
     "output_type": "stream",
     "text": [
      "\\d+([a-z]{1})$\n",
      "\\d+([a-z]{1})$\n",
      "\\d+([a-z]{1})$\n",
      "\\d+([a-z]{1})$\n",
      "\\d+([a-z]{1})$\n",
      "\\d+([a-z]{1})$\n",
      "\\d+([a-z]{1})$\n",
      "\\d+([a-z]{2})$\n",
      "\\d+([a-z]{2})$\n",
      "\\d+([a-z]{2})$\n",
      "\\d+([a-z]{2})$\n",
      "\\d+([a-z]{2})$\n",
      "\\d+([a-z]{2})$\n",
      "\\d+([a-z]{2})$\n",
      "\\d+([a-z]{3})$\n",
      "\\d+([a-z]{3})$\n",
      "\\d+([a-z]{3})$\n",
      "\\d+([a-z]{3})$\n",
      "\\d+([a-z]{3})$\n",
      "\\d+([a-z]{3})$\n",
      "\\d+([a-z]{3})$\n",
      "\\d+([a-z]{4})$\n",
      "\\d+([a-z]{4})$\n",
      "\\d+([a-z]{4})$\n",
      "\\d+([a-z]{4})$\n",
      "\\d+([a-z]{4})$\n",
      "\\d+([a-z]{4})$\n",
      "\\d+([a-z]{4})$\n"
     ]
    }
   ],
   "source": [
    "#retrieves the variable names of the expressions, returns as a set\n",
    "for ix in range(1,5):\n",
    "    for term in RHS:\n",
    "        query = '\\d+([a-z]{'+str(ix) + '})$'\n",
    "        print(query)\n",
    "        resp = re.findall(query,term)\n",
    "        if resp:\n",
    "            s.add(resp[0])"
   ]
  },
  {
   "cell_type": "code",
   "execution_count": 28,
   "metadata": {},
   "outputs": [],
   "source": [
    "import re #Lists all the variables in the expression excluding any digits\n",
    "def get_variables(exp):\n",
    "    resp = re.split('\\+|\\-|\\|\\*|\\(|\\)',exp)\n",
    "    return sorted(list(set([re.sub('\\d+','',x) for x in resp])))"
   ]
  },
  {
   "cell_type": "code",
   "execution_count": 29,
   "metadata": {},
   "outputs": [],
   "source": [
    "#Groups like terms in an expressions. Only supports + operators currently\n",
    "def group_terms(exp):                \n",
    "    variables = get_variables(exp)   #Obtains only the variables in the expression\n",
    "    grouped_terms = []               #Empty list to store the combined terms\n",
    "    for variable in variables:       #For every variable in the list variables\n",
    "        counter = 0                  #Counter to count variable occurances in the expression\n",
    "        pattern = '(?:\\d+)?(?<![a-z]){}(?![a-z])'.format(variable)  #Pattern to isolate like terms \n",
    "        subexpressions = re.findall(pattern,exp)\n",
    "        for term in subexpressions:  #Loops over each subexp       \n",
    "            if variable in term:     \n",
    "                counter += 1         #Counts all the time a variable is found in the expression\n",
    "            query = '\\d+'\n",
    "            resp = re.findall(query + variable,term) #If some variable and its coefficient\n",
    "            if resp:\n",
    "                counter += int(resp[0].replace(variable,'')) #Adds the coefficient to counter\n",
    "                counter -= 1         #Removes 1 from the counter everytime the term is matched\n",
    "        grouped_terms.append(str(counter) + variable)#Appends the variable and its coefficient to a list\n",
    "    return '+'.join(grouped_terms)   #Returns each term as a string joined with '+'"
   ]
  },
  {
   "cell_type": "code",
   "execution_count": 30,
   "metadata": {},
   "outputs": [
    {
     "data": {
      "text/plain": [
       "'7x+77xy+325y'"
      ]
     },
     "execution_count": 30,
     "metadata": {},
     "output_type": "execute_result"
    }
   ],
   "source": [
    "group_terms('5x+322y+32xy+3y+2x+45xy')"
   ]
  },
  {
   "cell_type": "code",
   "execution_count": null,
   "metadata": {},
   "outputs": [],
   "source": []
  }
 ],
 "metadata": {
  "kernelspec": {
   "display_name": "Python 2",
   "language": "python",
   "name": "python2"
  },
  "language_info": {
   "codemirror_mode": {
    "name": "ipython",
    "version": 2
   },
   "file_extension": ".py",
   "mimetype": "text/x-python",
   "name": "python",
   "nbconvert_exporter": "python",
   "pygments_lexer": "ipython2",
   "version": "2.7.12"
  }
 },
 "nbformat": 4,
 "nbformat_minor": 2
}

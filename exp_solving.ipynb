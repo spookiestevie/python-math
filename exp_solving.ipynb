{
 "cells": [
  {
   "cell_type": "code",
   "execution_count": 61,
   "metadata": {},
   "outputs": [],
   "source": [
    "\n",
    "import re\n",
    "#vars assumed to be x & y only"
   ]
  },
  {
   "cell_type": "code",
   "execution_count": 164,
   "metadata": {},
   "outputs": [],
   "source": [
    "def solve(exp):\n",
    "    inverse_operators = [('-','+'),('+','-'), ('*','/'), ('/','*')]\n",
    "    lst = re.split('=',exp) # splits string on '='\n",
    "    lhs,rhs = [x.strip() for x in lst] # removes whitespaces\n",
    "    lhs=re.sub(r'(\\d)(x|y)',r'\\1*\\2',lhs) # substitutes in a '*' where multiplication is assumed on the LHS\n",
    "    rhs=re.sub(r'(\\d)(x|y)',r'\\1*\\2',rhs) # substitutes in a '*' where multiplication is assumed on the RHS\n",
    "    subtract_from_rhs = [x for x in re.split('\\+',rhs) if 'x' not in x] # splits on the '+' to identify the lone term\n",
    "    lhs = lhs+'-'+'-'.join(subtract_from_rhs) #subtracts the term to move it to the LHS\n",
    "    rhs = re.sub('\\+{}'.format(subtract_from_rhs[0]),'',rhs)\n",
    "    lhs = '('+lhs + ')/'+[x for x in re.split('\\*',rhs) if 'x' not in x][0]\n",
    "    rhs = 'x'\n",
    "    lhs + ' = ' + rhs\n",
    "    return lhs,rhs"
   ]
  },
  {
   "cell_type": "code",
   "execution_count": 181,
   "metadata": {},
   "outputs": [],
   "source": [
    "lhs,rhs=solve('2y = 60x+150+3x')"
   ]
  },
  {
   "cell_type": "code",
   "execution_count": 182,
   "metadata": {},
   "outputs": [
    {
     "data": {
      "text/plain": [
       "'(2*y-150)/60'"
      ]
     },
     "execution_count": 182,
     "metadata": {},
     "output_type": "execute_result"
    }
   ],
   "source": [
    "lhs"
   ]
  },
  {
   "cell_type": "code",
   "execution_count": 190,
   "metadata": {},
   "outputs": [],
   "source": [
    "def replace_x(exp):\n",
    "    resp = re.findall('\\dx',exp)\n",
    "    print resp,len(resp)"
   ]
  },
  {
   "cell_type": "code",
   "execution_count": 201,
   "metadata": {},
   "outputs": [
    {
     "data": {
      "text/plain": [
       "'3x+2x+1*x'"
      ]
     },
     "execution_count": 201,
     "metadata": {},
     "output_type": "execute_result"
    }
   ],
   "source": [
    "re.sub(r'(\\D)x',r'\\1 1*x','3x+2x+x').replace(' ','')\n",
    "# standalone 'x' is replaced by 1*x to comply with prev logic"
   ]
  },
  {
   "cell_type": "code",
   "execution_count": 179,
   "metadata": {},
   "outputs": [],
   "source": [
    "def replace_operator_with_inverse(exp,operator):\n",
    "    inverse_operators = {'-':'+','+':'-', '*':'/', '/':'*'}\n",
    "    return re.sub('\\{}'.format(operator),'{}'.format(inverse_operators[operator]),exp)"
   ]
  },
  {
   "cell_type": "code",
   "execution_count": 180,
   "metadata": {},
   "outputs": [
    {
     "data": {
      "text/plain": [
       "'5/5'"
      ]
     },
     "execution_count": 180,
     "metadata": {},
     "output_type": "execute_result"
    }
   ],
   "source": [
    "replace_operator_with_inverse('5*5','')"
   ]
  },
  {
   "cell_type": "code",
   "execution_count": null,
   "metadata": {},
   "outputs": [],
   "source": []
  },
  {
   "cell_type": "code",
   "execution_count": null,
   "metadata": {},
   "outputs": [],
   "source": []
  }
 ],
 "metadata": {
  "kernelspec": {
   "display_name": "Python 2",
   "language": "python",
   "name": "python2"
  },
  "language_info": {
   "codemirror_mode": {
    "name": "ipython",
    "version": 2
   },
   "file_extension": ".py",
   "mimetype": "text/x-python",
   "name": "python",
   "nbconvert_exporter": "python",
   "pygments_lexer": "ipython2",
   "version": "2.7.12"
  }
 },
 "nbformat": 4,
 "nbformat_minor": 2
}
